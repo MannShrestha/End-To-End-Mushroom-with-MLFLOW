{
 "cells": [
  {
   "cell_type": "code",
   "execution_count": 1,
   "id": "4c2f7472",
   "metadata": {},
   "outputs": [],
   "source": [
    "import os "
   ]
  },
  {
   "cell_type": "code",
   "execution_count": 2,
   "id": "df2e5ee1",
   "metadata": {},
   "outputs": [
    {
     "data": {
      "text/plain": [
       "'c:\\\\Users\\\\USER\\\\DataScience\\\\Projects\\\\End-To-End-Mushroom-with-MLFLOW\\\\research'"
      ]
     },
     "execution_count": 2,
     "metadata": {},
     "output_type": "execute_result"
    }
   ],
   "source": [
    "%pwd"
   ]
  },
  {
   "cell_type": "code",
   "execution_count": 3,
   "id": "9f53e4a2",
   "metadata": {},
   "outputs": [],
   "source": [
    "os.chdir(\"../\")"
   ]
  },
  {
   "cell_type": "code",
   "execution_count": 4,
   "id": "263f6797",
   "metadata": {},
   "outputs": [
    {
     "data": {
      "text/plain": [
       "'c:\\\\Users\\\\USER\\\\DataScience\\\\Projects\\\\End-To-End-Mushroom-with-MLFLOW'"
      ]
     },
     "execution_count": 4,
     "metadata": {},
     "output_type": "execute_result"
    }
   ],
   "source": [
    "%pwd"
   ]
  },
  {
   "cell_type": "markdown",
   "id": "640fd969",
   "metadata": {},
   "source": [
    "## Entity setup"
   ]
  },
  {
   "cell_type": "code",
   "execution_count": 5,
   "id": "27f5c810",
   "metadata": {},
   "outputs": [],
   "source": [
    "from dataclasses import dataclass\n",
    "from pathlib import Path"
   ]
  },
  {
   "cell_type": "code",
   "execution_count": 6,
   "id": "f44ec2eb",
   "metadata": {},
   "outputs": [],
   "source": [
    "@dataclass(frozen=True)\n",
    "class DataTransformationConfig:\n",
    "    root_dir: Path\n",
    "    data_path: Path"
   ]
  },
  {
   "cell_type": "markdown",
   "id": "48a489e5",
   "metadata": {},
   "source": [
    "## src/mlProject/config/configuration.py\n",
    "\n",
    "Configuration Manager Class\n"
   ]
  },
  {
   "cell_type": "code",
   "execution_count": 7,
   "id": "e06aa615",
   "metadata": {},
   "outputs": [],
   "source": [
    "from src.Mushroom_classifier.constants import *\n",
    "from src.Mushroom_classifier.utils.common import read_yaml, create_directories"
   ]
  },
  {
   "cell_type": "code",
   "execution_count": 8,
   "id": "b781ee47",
   "metadata": {},
   "outputs": [],
   "source": [
    "class ConfigurationManager:\n",
    "    def __init__(\n",
    "        self,\n",
    "        config_filepath = CONFIG_FILE_PATH,\n",
    "        params_filepath = PARAMS_FILE_PATH,\n",
    "        schema_filepath = SCHEMA_FILE_PATH):\n",
    "\n",
    "        self.config = read_yaml(config_filepath)\n",
    "        self.params = read_yaml(params_filepath)\n",
    "        self.schema = read_yaml(schema_filepath)\n",
    "\n",
    "        create_directories([self.config.artifacts_root])\n",
    "\n",
    "\n",
    "    def get_data_transformation_config(self) -> DataTransformationConfig:\n",
    "        config = self.config.data_transformation\n",
    "\n",
    "        create_directories([config.root_dir])\n",
    "\n",
    "        data_transformation_config = DataTransformationConfig(\n",
    "            root_dir = config.root_dir,\n",
    "            data_path = config.data_path,\n",
    "        )\n",
    "\n",
    "        return data_transformation_config\n",
    "    "
   ]
  },
  {
   "cell_type": "markdown",
   "id": "16158cc1",
   "metadata": {},
   "source": [
    "## Components for Data Transformation"
   ]
  },
  {
   "cell_type": "code",
   "execution_count": 10,
   "id": "40852595",
   "metadata": {},
   "outputs": [],
   "source": [
    "import os \n",
    "from src.Mushroom_classifier import logger\n",
    "from sklearn.preprocessing import LabelEncoder\n",
    "from sklearn.model_selection import train_test_split\n",
    "import pandas as pd\n"
   ]
  },
  {
   "cell_type": "code",
   "execution_count": 12,
   "id": "5206b787",
   "metadata": {},
   "outputs": [],
   "source": [
    "class DataTransformation:\n",
    "    def __init__(self, config: DataTransformationConfig):\n",
    "        self.config = config\n",
    "\n",
    "    ## Note: You can add different data transformation techniques such as Scaler, PCA and all\n",
    "    #You can perform all kinds of EDA in ML cycle here before passing this data to the model\n",
    "\n",
    "    # I am only adding train_test_spliting because this data is already cleaned up.\n",
    "\n",
    "    def label_encoding_to_all_feature(self):\n",
    "        data = pd.read_csv(self.config.data_path)\n",
    "\n",
    "        # converting all categorical columns to numerical\n",
    "        logger.info(\"converting all categorical columns to numerical using LabelEncoder\")\n",
    "\n",
    "        labelencoder = LabelEncoder()\n",
    "        for column in data.columns:\n",
    "            data[column] = labelencoder.fit_transform(data[column])\n",
    "        logger.info(\"Columns datatype after converting to numerical\")\n",
    "        logger.info(f\"{data.dtypes}\")\n",
    "        data.to_csv(os.path.join(self.config.root_dir, \"data.csv\"), index=False)\n",
    "    \n",
    "\n",
    "    def train_test_spliting(self):\n",
    "        data = pd.read_csv(self.config.root_dir+\"/data.csv\")\n",
    "\n",
    "        # Split the data into training and test sets. (0.80, 0.20) split.\n",
    "        train, test = train_test_split(data, random_state = 42, test_size = .2)\n",
    "\n",
    "\n",
    "        train.to_csv(os.path.join(self.config.root_dir, \"train.csv\"), index = False)\n",
    "        test.to_csv(os.path.join(self.config.root_dir, \"test.csv\"), index = False)\n",
    "\n",
    "        logger.info(\"Splitted data into training and test sets\")\n",
    "        logger.info(train.shape)\n",
    "        logger.info(test.shape)\n",
    "\n",
    "        print(train.shape)\n",
    "        print(test.shape)\n",
    "\n"
   ]
  },
  {
   "cell_type": "markdown",
   "id": "ef7f0dfd",
   "metadata": {},
   "source": [
    "## Data Transformation Pipeline"
   ]
  },
  {
   "cell_type": "code",
   "execution_count": 13,
   "id": "9d7fe1aa",
   "metadata": {},
   "outputs": [
    {
     "name": "stdout",
     "output_type": "stream",
     "text": [
      "[2025-09-24 00:44:44,396: INFO: common: yaml file: config\\config.yaml loaded successfully]\n",
      "[2025-09-24 00:44:44,403: INFO: common: yaml file: params.yaml loaded successfully]\n",
      "[2025-09-24 00:44:44,409: INFO: common: yaml file: schema.yaml loaded successfully]\n",
      "[2025-09-24 00:44:44,412: INFO: common: created directory at: artifacts]\n",
      "[2025-09-24 00:44:44,414: INFO: common: created directory at: artifacts/data_transformation]\n",
      "[2025-09-24 00:44:44,485: INFO: 168495426: converting all categorical columns to numerical using LabelEncoder]\n",
      "[2025-09-24 00:44:44,527: INFO: 168495426: Columns datatype after converting to numerical]\n",
      "[2025-09-24 00:44:44,531: INFO: 168495426: class                       int32\n",
      "cap-shape                   int32\n",
      "cap-surface                 int32\n",
      "cap-color                   int32\n",
      "bruises                     int32\n",
      "odor                        int32\n",
      "gill-attachment             int32\n",
      "gill-spacing                int32\n",
      "gill-size                   int32\n",
      "gill-color                  int32\n",
      "stalk-shape                 int32\n",
      "stalk-surface-above-ring    int32\n",
      "stalk-surface-below-ring    int32\n",
      "stalk-color-above-ring      int32\n",
      "stalk-color-below-ring      int32\n",
      "veil-color                  int32\n",
      "ring-number                 int32\n",
      "ring-type                   int32\n",
      "spore-print-color           int32\n",
      "population                  int32\n",
      "habitat                     int32\n",
      "dtype: object]\n",
      "[2025-09-24 00:44:44,634: INFO: 168495426: Splitted data into training and test sets]\n",
      "[2025-09-24 00:44:44,635: INFO: 168495426: (6499, 21)]\n",
      "[2025-09-24 00:44:44,636: INFO: 168495426: (1625, 21)]\n",
      "(6499, 21)\n",
      "(1625, 21)\n"
     ]
    }
   ],
   "source": [
    "try:\n",
    "    config = ConfigurationManager()\n",
    "    data_transformation_config = config.get_data_transformation_config()\n",
    "    data_transformation = DataTransformation(config = data_transformation_config)\n",
    "    data_transformation.label_encoding_to_all_feature()\n",
    "    data_transformation.train_test_spliting()\n",
    "\n",
    "except Exception as e:\n",
    "    raise e\n"
   ]
  },
  {
   "cell_type": "code",
   "execution_count": null,
   "id": "e3f0f5dc",
   "metadata": {},
   "outputs": [],
   "source": []
  }
 ],
 "metadata": {
  "kernelspec": {
   "display_name": "mushroom_env",
   "language": "python",
   "name": "python3"
  },
  "language_info": {
   "codemirror_mode": {
    "name": "ipython",
    "version": 3
   },
   "file_extension": ".py",
   "mimetype": "text/x-python",
   "name": "python",
   "nbconvert_exporter": "python",
   "pygments_lexer": "ipython3",
   "version": "3.9.0"
  }
 },
 "nbformat": 4,
 "nbformat_minor": 5
}
